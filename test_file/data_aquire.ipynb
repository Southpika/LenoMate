{
 "cells": [
  {
   "attachments": {},
   "cell_type": "markdown",
   "metadata": {},
   "source": [
    "## BAAI/COIG/tree/main\n",
    "https://github.com/flagopen/flaginstruct"
   ]
  },
  {
   "cell_type": "code",
   "execution_count": 1,
   "metadata": {},
   "outputs": [],
   "source": [
    "import os\n",
    "import json"
   ]
  },
  {
   "cell_type": "code",
   "execution_count": 3,
   "metadata": {},
   "outputs": [],
   "source": [
    "data_path = r\"C:\\Users\\Opti7080\\Downloads\\exam_instructions.jsonl\"\n",
    "data = []\n",
    "with open(data_path,encoding='utf-8') as f:\n",
    "    for line in f:\n",
    "        try:\n",
    "            data.append(json.loads(line))\n",
    "        except json.JSONDecodeError as e:\n",
    "            print(f'解析错误,{e},{line}')"
   ]
  },
  {
   "cell_type": "code",
   "execution_count": 35,
   "metadata": {},
   "outputs": [
    {
     "data": {
      "text/plain": [
       "63532"
      ]
     },
     "execution_count": 35,
     "metadata": {},
     "output_type": "execute_result"
    }
   ],
   "source": [
    "len(data)"
   ]
  },
  {
   "cell_type": "code",
   "execution_count": 34,
   "metadata": {},
   "outputs": [
    {
     "name": "stdout",
     "output_type": "stream",
     "text": [
      "<用户>:请根据题目类型(默写)简洁和专业的来回答我的问题\n",
      "[上下文]：_\n",
      "[问题]：__________________，铜雀春深锁二乔。（杜牧《赤壁》）\n",
      "<LenoMate>:欢迎使用LenoMate，答案为东风不与周郎便 \n",
      "<用户>:这是关于哪一个科目的问题？\n",
      "<LenoMate>:这是关于语文的问题\n"
     ]
    }
   ],
   "source": [
    "def generate_conversation(data):\n",
    "    ans = ''\n",
    "    if 'textbox_q_instruction' in data.keys() and data['textbox_q_instruction']:\n",
    "        ans+=f\"<用户>:请根据题目类型({data['textbox_q_instruction']})简洁和专业的来回答我的问题\"\n",
    "    if 'textbox_q_context' in data.keys() and data['textbox_q_context']:\n",
    "        ans+=f\"\\n[上下文]：{data['textbox_q_context']}\"\n",
    "    if 'textbox_question' in data.keys() and data['textbox_question']:\n",
    "        ans+=f\"\\n[问题]：{data['textbox_question']}\"\n",
    "    if 'textbox_answer' in data.keys():\n",
    "        ans+=f\"\\n<LenoMate>:欢迎使用LenoMate，答案为{data['textbox_answer']}\"\n",
    "    if 'textbox_answer_analysis' in data.keys() and data['textbox_answer_analysis']:\n",
    "        ans+=f\"\\n<用户>:请分析一下你的回答\\n<LenoMate>:{data['textbox_answer_analysis']}\"\n",
    "    if \"subject\" in data.keys() and data['subject']:\n",
    "        ans+=f\"\\n<用户>:这是关于哪一个科目的问题？\\n<LenoMate>:这是关于{data['subject']}的问题\"\n",
    "\n",
    "    return ans"
   ]
  },
  {
   "cell_type": "code",
   "execution_count": 39,
   "metadata": {},
   "outputs": [
    {
     "name": "stdout",
     "output_type": "stream",
     "text": [
      "<用户>:请根据题目类型(请根据题目内容选择符合要求的选项)简洁和专业的来回答我的问题\n",
      "[问题]：11．“人生须知负责任的苦处，才能知道尽责的乐趣，”下列对此理解正确的是（　　） A．尽量少承诺，少担责任 B．责任既意味着付出，又意味着收获 C．承担责任是痛苦的事，不要承担责任 D．要多享受权利，少履行义务\n",
      "<LenoMate>:欢迎使用LenoMate，答案为B\n",
      "<用户>:请分析一下你的回答\n",
      "<LenoMate>:[分析]本题考查责任的代价和回报。承担责任需要付出时间、精力甚至金钱责罚的代价，也会得到相应地精神层面的回报，如自我精神满足、表扬和赞许、尊重等。  [解答]分析”人生须知负责任的苦处，才能知道尽责的乐趣，”，责任有苦也有乐趣，说明承担责任需要付出时间、精力甚至金钱责罚的代价，也会得到相应地精神层面的回报，如自我精神满足、表扬和赞许、尊重等，b符合题意；ac是错误的，承担责任促进我们自尊自信自强，促进我们成长成熟，要增强责任感，自觉承担责任；d是错误的，权利和义务具有一致性，相互依存相互促进，每个公民都要在行使权利的同时自觉履行义务，不能多享受权利，少履行义务。 故选：b。\n",
      "<用户>:这是关于哪一个科目的问题？\n",
      "<LenoMate>:这是关于政治的问题\n"
     ]
    }
   ],
   "source": [
    "print(generate_conversation(data[40000]).replace('【','[').replace('】',']'))"
   ]
  },
  {
   "cell_type": "code",
   "execution_count": 38,
   "metadata": {},
   "outputs": [
    {
     "data": {
      "text/plain": [
       "'<用户>:请根据题目类型(请根据题目内容选择符合要求的选项)简洁和专业的来回答我的问题\\n[问题]：11．“人生须知负责任的苦处，才能知道尽责的乐趣，”下列对此理解正确的是（\\u3000\\u3000） A．尽量少承诺，少担责任 B．责任既意味着付出，又意味着收获 C．承担责任是痛苦的事，不要承担责任 D．要多享受权利，少履行义务\\n<LenoMate>:欢迎使用LenoMate，答案为B\\n<用户>:请分析一下你的回答\\n<LenoMate>:[]分析】本题考查责任的代价和回报。承担责任需要付出时间、精力甚至金钱责罚的代价，也会得到相应地精神层面的回报，如自我精神满足、表扬和赞许、尊重等。  []解答】分析”人生须知负责任的苦处，才能知道尽责的乐趣，”，责任有苦也有乐趣，说明承担责任需要付出时间、精力甚至金钱责罚的代价，也会得到相应地精神层面的回报，如自我精神满足、表扬和赞许、尊重等，b符合题意；ac是错误的，承担责任促进我们自尊自信自强，促进我们成长成熟，要增强责任感，自觉承担责任；d是错误的，权利和义务具有一致性，相互依存相互促进，每个公民都要在行使权利的同时自觉履行义务，不能多享受权利，少履行义务。 故选：b。\\n<用户>:这是关于哪一个科目的问题？\\n<LenoMate>:这是关于政治的问题'"
      ]
     },
     "execution_count": 38,
     "metadata": {},
     "output_type": "execute_result"
    }
   ],
   "source": [
    "generate_conversation(data[40000]).replace('【','[').replace('】',']')"
   ]
  },
  {
   "cell_type": "code",
   "execution_count": 15,
   "metadata": {},
   "outputs": [
    {
     "data": {
      "text/plain": [
       "{'<用户>:': 'textbox_q_instruction'}"
      ]
     },
     "execution_count": 15,
     "metadata": {},
     "output_type": "execute_result"
    }
   ],
   "source": [
    "{'<用户>:':'textbox_q_instruction'}"
   ]
  }
 ],
 "metadata": {
  "kernelspec": {
   "display_name": "torch",
   "language": "python",
   "name": "python3"
  },
  "language_info": {
   "codemirror_mode": {
    "name": "ipython",
    "version": 3
   },
   "file_extension": ".py",
   "mimetype": "text/x-python",
   "name": "python",
   "nbconvert_exporter": "python",
   "pygments_lexer": "ipython3",
   "version": "3.10.11"
  },
  "orig_nbformat": 4
 },
 "nbformat": 4,
 "nbformat_minor": 2
}
