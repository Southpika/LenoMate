{
 "cells": [
  {
   "cell_type": "code",
   "execution_count": 18,
   "metadata": {},
   "outputs": [],
   "source": [
    "from langchain.document_loaders import UnstructuredFileLoader, DirectoryLoader,TextLoader\n",
    "from langchain.chains import RetrievalQA"
   ]
  },
  {
   "cell_type": "code",
   "execution_count": 2,
   "metadata": {},
   "outputs": [],
   "source": [
    "from langchain.vectorstores import FAISS"
   ]
  },
  {
   "cell_type": "code",
   "execution_count": 8,
   "metadata": {},
   "outputs": [
    {
     "ename": "NameError",
     "evalue": "name 'ChineseTextSplitter' is not defined",
     "output_type": "error",
     "traceback": [
      "\u001b[1;31m---------------------------------------------------------------------------\u001b[0m",
      "\u001b[1;31mNameError\u001b[0m                                 Traceback (most recent call last)",
      "Cell \u001b[1;32mIn[8], line 2\u001b[0m\n\u001b[0;32m      1\u001b[0m loader \u001b[39m=\u001b[39m TextLoader(\u001b[39m'\u001b[39m\u001b[39m./data/document_corpus.txt\u001b[39m\u001b[39m'\u001b[39m,autodetect_encoding\u001b[39m=\u001b[39m\u001b[39mTrue\u001b[39;00m)\n\u001b[1;32m----> 2\u001b[0m textsplitter \u001b[39m=\u001b[39m ChineseTextSplitter(pdf\u001b[39m=\u001b[39m\u001b[39mFalse\u001b[39;00m, sentence_size\u001b[39m=\u001b[39msentence_size)\n\u001b[0;32m      3\u001b[0m docs \u001b[39m=\u001b[39m loader\u001b[39m.\u001b[39mload_and_split(textsplitter)\n",
      "\u001b[1;31mNameError\u001b[0m: name 'ChineseTextSplitter' is not defined"
     ]
    }
   ],
   "source": [
    "loader = TextLoader('./data/document_corpus.txt',autodetect_encoding=True)\n"
   ]
  },
  {
   "cell_type": "code",
   "execution_count": 14,
   "metadata": {},
   "outputs": [
    {
     "ename": "NameError",
     "evalue": "name 'RetrievalQA' is not defined",
     "output_type": "error",
     "traceback": [
      "\u001b[1;31m---------------------------------------------------------------------------\u001b[0m",
      "\u001b[1;31mNameError\u001b[0m                                 Traceback (most recent call last)",
      "Cell \u001b[1;32mIn[14], line 1\u001b[0m\n\u001b[1;32m----> 1\u001b[0m RetrievalQA\n",
      "\u001b[1;31mNameError\u001b[0m: name 'RetrievalQA' is not defined"
     ]
    }
   ],
   "source": [
    "RetrievalQA"
   ]
  },
  {
   "cell_type": "code",
   "execution_count": 13,
   "metadata": {},
   "outputs": [
    {
     "data": {
      "text/plain": [
       "[Document(page_content='花呗更改绑定银行卡。\\n我什么时候开通了花呗。\\nA man is eating food.\\nA man is eating a piece of bread.\\nA monkey is playing drums.', metadata={'source': './data/document_corpus.txt'})]"
      ]
     },
     "execution_count": 13,
     "metadata": {},
     "output_type": "execute_result"
    }
   ],
   "source": [
    "loader.load()"
   ]
  },
  {
   "cell_type": "code",
   "execution_count": null,
   "metadata": {},
   "outputs": [],
   "source": [
    "def init_knowledge_vector_store(filepath:str):\n",
    "    docs = []\n",
    "    if not os.path.exists(filepath):\n",
    "        print(\"路径不存在\")\n",
    "        return None\n",
    "    elif os.path.isfile(filepath):\n",
    "        file = os.path.split(filepath)[-1]\n",
    "        try:\n",
    "            loader = UnstructuredFileLoader(filepath, mode=\"elements\")\n",
    "            docs = loader.load()\n",
    "            print(f\"{file} 已成功加载\")\n",
    "        except:\n",
    "            print(f\"{file} 未能成功加载\")\n",
    "            return None\n",
    "    elif os.path.isdir(filepath):\n",
    "        try:\n",
    "            loader = DirectoryLoader(filepath, glob=\"**/*.md\")\n",
    "            docs = loader.load()\n",
    "            print(f\"{filepath} 已成功加载\")\n",
    "        except Exception as e:\n",
    "            print(f\"{filepath} 未能成功加载: {e}\")\n",
    "            return None\n",
    "\n",
    "    vector_store = FAISS.from_documents(docs, embeddings)\n",
    "    return vector_store"
   ]
  }
 ],
 "metadata": {
  "kernelspec": {
   "display_name": "torch",
   "language": "python",
   "name": "python3"
  },
  "language_info": {
   "codemirror_mode": {
    "name": "ipython",
    "version": 3
   },
   "file_extension": ".py",
   "mimetype": "text/x-python",
   "name": "python",
   "nbconvert_exporter": "python",
   "pygments_lexer": "ipython3",
   "version": "3.10.11"
  },
  "orig_nbformat": 4
 },
 "nbformat": 4,
 "nbformat_minor": 2
}
