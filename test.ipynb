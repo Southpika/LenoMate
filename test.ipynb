{
 "cells": [
  {
   "cell_type": "code",
   "execution_count": 1,
   "metadata": {},
   "outputs": [],
   "source": [
    "import os\n",
    "import sys\n",
    "sys.path.append(os.path.dirname(os.path.dirname(os.path.abspath('__file__'))))\n"
   ]
  },
  {
   "cell_type": "code",
   "execution_count": 2,
   "metadata": {},
   "outputs": [
    {
     "name": "stderr",
     "output_type": "stream",
     "text": [
      "d:\\Users\\admin\\anaconda3\\envs\\torch\\lib\\site-packages\\tqdm\\auto.py:21: TqdmWarning: IProgress not found. Please update jupyter and ipywidgets. See https://ipywidgets.readthedocs.io/en/stable/user_install.html\n",
      "  from .autonotebook import tqdm as notebook_tqdm\n"
     ]
    }
   ],
   "source": [
    "from utils.qwen.qw_chat_mode import chat_bot"
   ]
  },
  {
   "cell_type": "code",
   "execution_count": 3,
   "metadata": {},
   "outputs": [
    {
     "name": "stderr",
     "output_type": "stream",
     "text": [
      "Try importing flash-attention for faster inference...\n",
      "Warning: import flash_attn rotary fail, please install FlashAttention rotary to get higher efficiency https://github.com/Dao-AILab/flash-attention/tree/main/csrc/rotary\n",
      "Warning: import flash_attn rms_norm fail, please install FlashAttention layer_norm to get higher efficiency https://github.com/Dao-AILab/flash-attention/tree/main/csrc/layer_norm\n",
      "Warning: import flash_attn fail, please install FlashAttention to get higher efficiency https://github.com/Dao-AILab/flash-attention\n",
      "Loading checkpoint shards: 100%|██████████| 8/8 [00:06<00:00,  1.32it/s]\n"
     ]
    }
   ],
   "source": [
    "\n",
    "from transformers import AutoModelForCausalLM, AutoTokenizer\n",
    "from transformers.generation import GenerationConfig\n",
    "\n",
    "# Note: The default behavior now has injection attack prevention off.\n",
    "tokenizer = AutoTokenizer.from_pretrained(r\"C:\\Users\\admin\\Desktop\\qw\\qwen\", trust_remote_code=True)\n",
    "\n",
    "# use bf16\n",
    "model = AutoModelForCausalLM.from_pretrained(r\"C:\\Users\\admin\\Desktop\\qw\\qwen\", device_map=\"auto\", trust_remote_code=True, bf16=True).eval()\n",
    "\n",
    "from transformers import PreTrainedModel\n",
    "# from transformers_stream_generator.main import NewGenerationMixin, StreamGenerationConfig\n",
    "generation_config = GenerationConfig.from_pretrained(r\"C:\\Users\\admin\\Desktop\\qw\\qwen\", trust_remote_code=True)\n",
    "# stream_config = StreamGenerationConfig(**generation_config.to_dict(), do_stream=True)\n",
    "# PreTrainedModel.generate = NewGenerationMixin.generate\n",
    "# PreTrainedModel.sample_stream = NewGenerationMixin.sample_stream\n",
    "\n",
    "chat_bot = chat_bot(model,tokenizer)"
   ]
  },
  {
   "cell_type": "code",
   "execution_count": 11,
   "metadata": {},
   "outputs": [],
   "source": [
    "\n",
    "query,history = chat_bot.chat('帮我介绍一下深圳，列出深圳的五个优势',generation_config=generation_config)"
   ]
  },
  {
   "cell_type": "code",
   "execution_count": 13,
   "metadata": {},
   "outputs": [
    {
     "data": {
      "text/plain": [
       "('深圳是中国改革开放的前沿城市，经济发展迅速，是中国南方重要的经济中心之一。深圳是中国最早实行市场经济改革的城市之一，吸引了大量国内外投资者和企业家。深圳的经济以制造业为主，拥有众多高科技企业，是中国科技创新的领导者之一。深圳的港口也是中国南方重要的港口之一，为深圳的经济发展提供了重要的支持。',\n",
       " [('帮我介绍一下深圳，列出深圳的五个优势',\n",
       "   '深圳是中国南部沿海城市，拥有丰富的历史文化和现代化的城市建设。以下是深圳的五个优势：\\n\\n1. 经济发展：深圳是中国改革开放的前沿城市，经济实力强大，是中国南方重要的经济中心之一。\\n\\n2. 技术创新：深圳是中国科技创新的热点地区，拥有众多高科技企业，是中国科技创新的领导者之一。\\n\\n3. 人才聚集：深圳吸引了大量国内外优秀人才，拥有高水平的人才储备和人力资源。\\n\\n4. 城市环境：深圳的城市环境优美，拥有众多公园和自然景观，是一个宜居的城市。\\n\\n5. 文化多元：深圳是一个文化多元的城市，拥有丰富的文化资源和多元化的文化氛围。'),\n",
       "  ('详细介绍一下第一点',\n",
       "   '深圳是中国改革开放的前沿城市，经济发展迅速，是中国南方重要的经济中心之一。深圳是中国最早实行市场经济改革的城市之一，吸引了大量国内外投资者和企业家。深圳的经济以制造业为主，拥有众多高科技企业，是中国科技创新的领导者之一。深圳的港口也是中国南方重要的港口之一，为深圳的经济发展提供了重要的支持。')])"
      ]
     },
     "execution_count": 13,
     "metadata": {},
     "output_type": "execute_result"
    }
   ],
   "source": [
    "chat_bot.chat('详细介绍一下第一点',generation_config=generation_config,history=history)"
   ]
  },
  {
   "cell_type": "code",
   "execution_count": 8,
   "metadata": {},
   "outputs": [
    {
     "data": {
      "text/plain": [
       "'抱歉，作为一款AI语言模型，我无法获取实时天气信息。你可以通过查询天气网站或使用手机上的天气应用程序来获取最新的天气预报。'"
      ]
     },
     "execution_count": 8,
     "metadata": {},
     "output_type": "execute_result"
    }
   ],
   "source": [
    "query"
   ]
  },
  {
   "cell_type": "code",
   "execution_count": 12,
   "metadata": {},
   "outputs": [
    {
     "data": {
      "text/plain": [
       "('深圳是中国南部沿海城市，拥有丰富的历史文化和现代化的城市建设。以下是深圳的五个优势：\\n\\n1. 经济发展：深圳是中国改革开放的前沿城市，经济实力强大，是中国南方重要的经济中心之一。\\n\\n2. 技术创新：深圳是中国科技创新的热点地区，拥有众多高科技企业，是中国科技创新的领导者之一。\\n\\n3. 人才聚集：深圳吸引了大量国内外优秀人才，拥有高水平的人才储备和人力资源。\\n\\n4. 城市环境：深圳的城市环境优美，拥有众多公园和自然景观，是一个宜居的城市。\\n\\n5. 文化多元：深圳是一个文化多元的城市，拥有丰富的文化资源和多元化的文化氛围。',\n",
       " [('帮我介绍一下深圳，列出深圳的五个优势',\n",
       "   '深圳是中国南部沿海城市，拥有丰富的历史文化和现代化的城市建设。以下是深圳的五个优势：\\n\\n1. 经济发展：深圳是中国改革开放的前沿城市，经济实力强大，是中国南方重要的经济中心之一。\\n\\n2. 技术创新：深圳是中国科技创新的热点地区，拥有众多高科技企业，是中国科技创新的领导者之一。\\n\\n3. 人才聚集：深圳吸引了大量国内外优秀人才，拥有高水平的人才储备和人力资源。\\n\\n4. 城市环境：深圳的城市环境优美，拥有众多公园和自然景观，是一个宜居的城市。\\n\\n5. 文化多元：深圳是一个文化多元的城市，拥有丰富的文化资源和多元化的文化氛围。')])"
      ]
     },
     "execution_count": 12,
     "metadata": {},
     "output_type": "execute_result"
    }
   ],
   "source": [
    "query,history"
   ]
  },
  {
   "cell_type": "code",
   "execution_count": 14,
   "metadata": {},
   "outputs": [
    {
     "name": "stdout",
     "output_type": "stream",
     "text": [
      "system\n",
      "You are a helpful assistant named LenoMate from Lenovo.\n",
      "user\n",
      "今天天气怎么样\n",
      "assistant\n",
      "我无法获取实时天气信息，但你可以通过查询天气预报或使用天气应用程序来获取最新的天气信息。\n",
      "\n"
     ]
    }
   ],
   "source": [
    "print(tokenizer.decode(history[0][1][0],skip_special_tokens=True))"
   ]
  },
  {
   "cell_type": "code",
   "execution_count": 11,
   "metadata": {},
   "outputs": [
    {
     "data": {
      "text/plain": [
       "tensor([151644,   8948,    198,   2610,    525,    264,  10950,  17847,   6941,\n",
       "           444,  11790,  96642,    504,  63699,     13, 151645,    198, 151644,\n",
       "           872,    198, 100644, 104307, 104472, 151645,    198, 151644,  77091,\n",
       "           198,  35946, 101068,  45912, 105143, 104307,  27369,   3837,  77288,\n",
       "        105048,  67338,  51154, 104307, 115744,  57191,  37029, 104307, 113384,\n",
       "         36407,  45912, 108324, 104307,  27369,   1773, 151645,    198, 151644,\n",
       "        151643], device='cuda:0')"
      ]
     },
     "execution_count": 11,
     "metadata": {},
     "output_type": "execute_result"
    }
   ],
   "source": [
    "history[0][1][0]"
   ]
  }
 ],
 "metadata": {
  "kernelspec": {
   "display_name": "torch",
   "language": "python",
   "name": "python3"
  },
  "language_info": {
   "codemirror_mode": {
    "name": "ipython",
    "version": 3
   },
   "file_extension": ".py",
   "mimetype": "text/x-python",
   "name": "python",
   "nbconvert_exporter": "python",
   "pygments_lexer": "ipython3",
   "version": "3.10.0"
  },
  "orig_nbformat": 4
 },
 "nbformat": 4,
 "nbformat_minor": 2
}
